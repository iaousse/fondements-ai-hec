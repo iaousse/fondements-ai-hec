{
 "cells": [
  {
   "cell_type": "markdown",
   "id": "1a141678-1061-4fea-b821-82b3a96ed718",
   "metadata": {},
   "source": [
    "# Premiers pas en Python pour la science des données\n",
    "\n",
    "Dans cette section, nous allons introduire les bases de Python. L’objectif ici est de vous familiariser avec les éléments essentiels du langage nécessaires à la pratique de la science des données. Python est un outil incontournable dans ce domaine, permettant de manipuler, analyser et visualiser des données avec efficacité. En acquérant ces compétences fondamentales à travers des exemples concrets et réalistes, vous serez mieux préparés à appliquer des techniques de science des données sur des jeux de données réels et à résoudre des problèmes complexes de manière pratique.\n"
   ]
  },
  {
   "cell_type": "markdown",
   "id": "d84707c1",
   "metadata": {},
   "source": [
    "## Pratique 1 : Types de données, mathématiques et fonction `print()`\n",
    "\n",
    "Dans cette section, vous débuterez en apprenant les bases de la manipulation de différents types de données, ainsi que l’utilisation de la fonction `print()` pour afficher ce qui se passe dans votre programme Python.\n",
    "\n",
    "Si vous souhaitez approfondir vos connaissances en programmation Python, vous pouvez consulter cette [documentation sur les opérateurs mathématiques](https://www.tutorialspoint.com/python/python_basic_operators.htm) pour aller plus loin.\n"
   ]
  },
  {
   "cell_type": "markdown",
   "id": "0d44a0e7",
   "metadata": {},
   "source": [
    "### Utilisation de la fonction `print()`\n",
    "\n",
    "`print()` est une fonction intégrée qui vous permet, en tant qu'utilisateur, de visualiser ce qui se passe dans le code. Elle ne modifie ni ne transmet quoi que ce soit au programme Python.\n",
    "\n",
    "Par exemple, nous avons affiché le message « Hello World! » ci-dessous.\n"
   ]
  },
  {
   "cell_type": "code",
   "execution_count": 1,
   "id": "5f69142d",
   "metadata": {
    "scrolled": true
   },
   "outputs": [
    {
     "name": "stdout",
     "output_type": "stream",
     "text": [
      "Hello World!\n"
     ]
    }
   ],
   "source": [
    "print('Hello World!')"
   ]
  },
  {
   "cell_type": "markdown",
   "id": "48696508",
   "metadata": {},
   "source": [
    "### Commentaires\n",
    "\n",
    "Il arrive que nous souhaitions expliquer ou organiser notre code sans donner d'instructions au programme. C’est là qu’interviennent les commentaires ! Le symbole `#` indique à Python que vous écrivez un commentaire destiné à être lu par un humain. Tout ce qui est écrit après le symbole `#` sur la même ligne sera ignoré par Python.\n"
   ]
  },
  {
   "cell_type": "code",
   "execution_count": 2,
   "id": "4538506f",
   "metadata": {},
   "outputs": [
    {
     "name": "stdout",
     "output_type": "stream",
     "text": [
      "Hello World\n"
     ]
    }
   ],
   "source": [
    "# Print 'Hello World!'\n",
    "print('Hello World') # Un autre commentaire"
   ]
  },
  {
   "cell_type": "markdown",
   "id": "2d1ca3bb",
   "metadata": {},
   "source": [
    "### Types de données de base\n",
    "\n",
    "En Python, il existe plusieurs types de données que nous pouvons utiliser pour stocker des informations. Les quatre types les plus courants sont : les entiers, les nombres à virgule flottante, les chaînes de caractères et les booléens.\n"
   ]
  },
  {
   "cell_type": "code",
   "execution_count": 3,
   "id": "f8aa21e0",
   "metadata": {},
   "outputs": [
    {
     "name": "stdout",
     "output_type": "stream",
     "text": [
      "3\n",
      "3.5\n",
      "Hello World\n",
      "True\n"
     ]
    }
   ],
   "source": [
    "print(3)              # valeur entière  \n",
    "print(3.5)            # valeur flottante  \n",
    "print('Hello World')  # chaîne de caractères  \n",
    "print(True)           # valeur booléenne  \n"
   ]
  },
  {
   "cell_type": "markdown",
   "id": "bdcf08ae",
   "metadata": {},
   "source": [
    "### Variables\n",
    "\n",
    "Les variables nous permettent de stocker des données pour les manipuler ou les afficher dans différentes parties de notre programme Python. Elles réduisent la répétition de code et rendent le programme plus lisible.\n",
    "\n",
    "Par exemple, imaginons que nous écrivons un programme pour générer un reçu pour un acheteur en ligne. Nous voudrions peut-être afficher le coût de la commande à plusieurs endroits. Pour cela, nous pourrions stocker cette valeur dans une variable nommée `cost`.\n"
   ]
  },
  {
   "cell_type": "code",
   "execution_count": 14,
   "id": "d81a69b4",
   "metadata": {},
   "outputs": [
    {
     "name": "stdout",
     "output_type": "stream",
     "text": [
      "Le coût de votre commande est de 200 DH\n",
      "Veuillez appuyer sur le bouton vert pour accepter le paiement de 200 DH\n"
     ]
    }
   ],
   "source": [
    "cost = 200 \n",
    "print('Le coût de votre commande est de', cost, 'DH')  \n",
    "print('Veuillez appuyer sur le bouton vert pour accepter le paiement de', cost, 'DH')  \n"
   ]
  },
  {
   "cell_type": "markdown",
   "id": "ad887438",
   "metadata": {},
   "source": [
    "### Cas particulier : guillemets à l'intérieur des chaînes de caractères\n",
    "\n",
    "Un cas particulier à considérer est la création d'une chaîne de caractères contenant des guillemets en son sein.\n"
   ]
  },
  {
   "cell_type": "code",
   "execution_count": 16,
   "id": "52c5d9f5",
   "metadata": {},
   "outputs": [
    {
     "name": "stdout",
     "output_type": "stream",
     "text": [
      "Les \"data\" sont des informations numériques brutes exploitables pour faire des analyses\n",
      "J'utilise la data science pour résoudre des problèmes concrets en analysant les données.\n",
      "J'utilise la data science pour résoudre des problèmes concrets en analysant les données.\n"
     ]
    }
   ],
   "source": [
    "# Cas particulier ! Guillemets dans des guillemets\n",
    "\n",
    "# Utilisez des guillemets simples pour encapsuler la chaîne si vous avez besoin d'inclure des guillemets doubles à l'intérieur\n",
    "print('Les \"data\" sont des informations numériques brutes exploitables pour faire des analyses')\n",
    "\n",
    "# Utilisez des guillemets doubles pour encapsuler la chaîne si vous avez besoin d'inclure des guillemets simples à l'intérieur\n",
    "print(\"J'utilise la data science pour résoudre des problèmes concrets en analysant les données.\")\n",
    "\n",
    "# Vous pouvez également utiliser le caractère d'échappement (\\) pour dire à Python d'ignorer le caractère qui suit\n",
    "print('J\\'utilise la data science pour résoudre des problèmes concrets en analysant les données.')\n"
   ]
  },
  {
   "cell_type": "markdown",
   "id": "e3b2cfaa",
   "metadata": {},
   "source": [
    "### Opérateurs mathématiques\n",
    "\n",
    "Python propose plusieurs opérateurs mathématiques intégrés. Ces opérateurs peuvent être utilisés pour effectuer des transformations sur les données.\n",
    "\n",
    "Il est important de noter que les opérateurs se comportent différemment selon les types de données.\n"
   ]
  },
  {
   "cell_type": "code",
   "execution_count": 7,
   "id": "2f1ffa60",
   "metadata": {},
   "outputs": [],
   "source": [
    "# Créer des variables pour des opérations mathématiques dans les cellules suivantes\n",
    "\n",
    "a = 2  \n",
    "b = 4  \n",
    "c = 'Hello '  \n",
    "d = 'world'\n"
   ]
  },
  {
   "cell_type": "markdown",
   "id": "0a51641e",
   "metadata": {},
   "source": [
    "Remarquez que lorsque vous exécutez la cellule ci-dessus, rien ne s’affiche en sortie. Python stocke les variables en mémoire, mais ne fait rien d’autre avec elles.\n"
   ]
  },
  {
   "cell_type": "code",
   "execution_count": 14,
   "id": "9e617ba1",
   "metadata": {},
   "outputs": [
    {
     "name": "stdout",
     "output_type": "stream",
     "text": [
      "6\n"
     ]
    }
   ],
   "source": [
    "# Addition (+)\n",
    "print(a + b)"
   ]
  },
  {
   "cell_type": "code",
   "execution_count": 15,
   "id": "b00b06a8",
   "metadata": {},
   "outputs": [
    {
     "name": "stdout",
     "output_type": "stream",
     "text": [
      "Hello World!\n"
     ]
    }
   ],
   "source": [
    "# Addition des chaines de caracteres\n",
    "print(c + d)"
   ]
  },
  {
   "cell_type": "code",
   "execution_count": 11,
   "id": "2ec50f5e",
   "metadata": {},
   "outputs": [
    {
     "name": "stdout",
     "output_type": "stream",
     "text": [
      "-2\n"
     ]
    }
   ],
   "source": [
    "# Soustraction (-)\n",
    "print(a - b)"
   ]
  },
  {
   "cell_type": "code",
   "execution_count": 12,
   "id": "97fca396",
   "metadata": {},
   "outputs": [
    {
     "name": "stdout",
     "output_type": "stream",
     "text": [
      "8\n"
     ]
    }
   ],
   "source": [
    "# Multiplication (*)\n",
    "print(a * b)"
   ]
  },
  {
   "cell_type": "code",
   "execution_count": 13,
   "id": "db105952",
   "metadata": {},
   "outputs": [
    {
     "name": "stdout",
     "output_type": "stream",
     "text": [
      "16\n"
     ]
    }
   ],
   "source": [
    "# Exponent (**)\n",
    "print(b ** a)"
   ]
  },
  {
   "cell_type": "code",
   "execution_count": 14,
   "id": "4915bca5",
   "metadata": {},
   "outputs": [
    {
     "name": "stdout",
     "output_type": "stream",
     "text": [
      "2.0\n"
     ]
    }
   ],
   "source": [
    "# Division (/)\n",
    "print(b / a)"
   ]
  },
  {
   "cell_type": "markdown",
   "id": "5ee4988f",
   "metadata": {},
   "source": [
    "La division produit toujours un type de donnée `float`, même si le résultat est un nombre entier.\n"
   ]
  },
  {
   "cell_type": "code",
   "execution_count": 8,
   "id": "fce8b109",
   "metadata": {},
   "outputs": [
    {
     "name": "stdout",
     "output_type": "stream",
     "text": [
      "Le reste de la division de x par y est: 1\n"
     ]
    }
   ],
   "source": [
    "# Modulo (%)\n",
    "\n",
    "x = 5\n",
    "y = 2\n",
    "\n",
    "print('Le reste de la division de x par y est:', x%y)"
   ]
  },
  {
   "cell_type": "markdown",
   "id": "647419ce",
   "metadata": {},
   "source": [
    "L'opérateur modulo `%` effectue d'abord une division, puis renvoie le reste de cette division. Par exemple, l'opération suivante :\n",
    "\n",
    "5 divisé par 2 donne 2 avec un reste de 1, donc 5 % 2 renvoie 1.\n"
   ]
  },
  {
   "cell_type": "code",
   "execution_count": 9,
   "id": "a0facbec",
   "metadata": {
    "scrolled": true
   },
   "outputs": [
    {
     "name": "stdout",
     "output_type": "stream",
     "text": [
      "Deux se divise dans neuf 4.5 fois\n",
      "Deux se divise entier dans neuf 4 fois\n"
     ]
    }
   ],
   "source": [
    "# Division entière (//)\n",
    "\n",
    "# La division classique (/) renvoie une valeur flottante précise\n",
    "print('Deux se divise dans neuf', 9/2, 'fois')\n",
    "\n",
    "# La division entière (//) ne renvoie que la partie entière du quotient\n",
    "print('Deux se divise entier dans neuf', 9//2, 'fois')\n"
   ]
  },
  {
   "cell_type": "markdown",
   "id": "14a63e4a",
   "metadata": {},
   "source": [
    "### Exemple pratique\n",
    "\n",
    "Supposons que nous travaillions dans une concession automobile et que nous voulions savoir combien de voitures vendre pour atteindre un bénéfice de 1000 000 DH. La division nous donnera une valeur en `float`, ce qui ne nous indique pas combien de voitures entières vendre pour atteindre cet objectif.\n",
    "\n",
    "Une idée serait d'utiliser la division entière pour connaître le nombre de voitures à vendre avant d'atteindre le seuil, puis d'en ajouter une de plus."
   ]
  },
  {
   "cell_type": "code",
   "execution_count": 17,
   "id": "dac61409",
   "metadata": {},
   "outputs": [
    {
     "name": "stdout",
     "output_type": "stream",
     "text": [
      "10.96611470555982\n",
      "11\n"
     ]
    }
   ],
   "source": [
    "# Enregistrer les valeurs pertinentes\n",
    "prix_moyen_vente = 548530  # Prix moyen de vente en DH  \n",
    "cout_moyen_distribution = 457340  # Coût moyen de distribution en DH  \n",
    "profit_par_voiture = prix_moyen_vente - cout_moyen_distribution  # Bénéfice par voiture  \n",
    "objectif_profit = 1000000  # Objectif de profit en DH  \n",
    "\n",
    "voitures_a_vendre = objectif_profit / profit_par_voiture  # Ceci est une valeur flottante  \n",
    "voitures_a_vendre_entier = (objectif_profit // profit_par_voiture) + 1  # Nombre entier de voitures à vendre  \n",
    "\n",
    "print(voitures_a_vendre)  \n",
    "print(voitures_a_vendre_entier)\n"
   ]
  },
  {
   "cell_type": "markdown",
   "id": "545d3e9e",
   "metadata": {},
   "source": [
    "## Essayez-vous-même !\n",
    "\n",
    "Complétez les exercices suivants pour mettre en pratique vos compétences.\n",
    "\n",
    "Pour adopter de bonnes habitudes, créez d’abord des variables pour résoudre les exercices, puis affichez ces variables avec la fonction `print()`.\n",
    "\n"
   ]
  },
  {
   "cell_type": "markdown",
   "id": "bd6c499e",
   "metadata": {},
   "source": [
    "#### 1. Exécutez le code dans la cellule ci-dessous pour voir les erreurs. Corrigez les erreurs dans le code.\n"
   ]
  },
  {
   "cell_type": "code",
   "execution_count": 18,
   "id": "8ffb1350",
   "metadata": {
    "scrolled": true
   },
   "outputs": [
    {
     "name": "stdout",
     "output_type": "stream",
     "text": [
      "Ce n'est pas ici qu'il y a une erreur. Elle se trouve ailleurs.\n",
      "Albert Einstein a dit : \"L’école HEC est la meilleure école du monde !\"\n"
     ]
    }
   ],
   "source": [
    "# 1\n",
    "\n",
    "print(\"Ce n'est pas ici qu'il y a une erreur. Elle se trouve ailleurs.\")  \n",
    "print('Albert Einstein a dit : \"L’école HEC est la meilleure école du monde !\"') # En réalité, il n'a probablement jamais dit cela.\n",
    "\n"
   ]
  },
  {
   "cell_type": "markdown",
   "id": "702e006e",
   "metadata": {},
   "source": [
    "#### 2. Exécutez le code ci-dessous pour voir l'erreur. Corrigez l'erreur dans le code.\n"
   ]
  },
  {
   "cell_type": "code",
   "execution_count": 19,
   "id": "eba154bf",
   "metadata": {},
   "outputs": [
    {
     "ename": "SyntaxError",
     "evalue": "unterminated string literal (detected at line 3) (1842254831.py, line 3)",
     "output_type": "error",
     "traceback": [
      "\u001b[1;36m  Cell \u001b[1;32mIn[19], line 3\u001b[1;36m\u001b[0m\n\u001b[1;33m    print('Ceci produit\", 1, 'erreur')\u001b[0m\n\u001b[1;37m                                    ^\u001b[0m\n\u001b[1;31mSyntaxError\u001b[0m\u001b[1;31m:\u001b[0m unterminated string literal (detected at line 3)\n"
     ]
    }
   ],
   "source": [
    "# 2\n",
    "\n",
    "print('Ceci produit\", 1, 'erreur')"
   ]
  },
  {
   "cell_type": "markdown",
   "id": "0550ca50",
   "metadata": {},
   "source": [
    "### Pour les questions restantes, utilisez les données ci-dessous :\n",
    "\n",
    "Imaginez que vous travaillez pour la société Renault Maroc et que vous avez les informations suivantes sur les ventes de voitures :  \n",
    "- `voitures_vendues` représente le nombre de voitures vendues le mois dernier  \n",
    "- `prix_moyen_vente` est le prix de vente moyen par voiture  \n",
    "- `cout_moyen_distribution` est le coût moyen de distribution par voiture  \n",
    "\n",
    "Exécutez la cellule suivante pour créer et enregistrer ces données.\n"
   ]
  },
  {
   "cell_type": "code",
   "execution_count": 20,
   "id": "edbc34bf",
   "metadata": {},
   "outputs": [],
   "source": [
    "# Données de 'Renault Maroc' pour les exercices suivants\n",
    "\n",
    "voitures_vendues = 35  \n",
    "prix_moyen_vente = 548530  \n",
    "cout_moyen_distribution = 457340  \n"
   ]
  },
  {
   "cell_type": "markdown",
   "id": "083040bb",
   "metadata": {},
   "source": [
    "#### 3. Créez une variable pour calculer le bénéfice moyen par voiture à l’aide des données de ventes de `Renault Maroc`. Affichez le résultat.\n"
   ]
  },
  {
   "cell_type": "code",
   "execution_count": 24,
   "id": "d25b3d8f",
   "metadata": {},
   "outputs": [],
   "source": [
    "# 3\n"
   ]
  },
  {
   "cell_type": "markdown",
   "id": "0b754905",
   "metadata": {},
   "source": [
    "#### 4. Trouvez et affichez le bénéfice total de ce mois-ci en vous basant sur les données de `Renault Maroc`.\n"
   ]
  },
  {
   "cell_type": "code",
   "execution_count": 26,
   "id": "372a13a3",
   "metadata": {},
   "outputs": [],
   "source": [
    "# 4\n"
   ]
  },
  {
   "cell_type": "markdown",
   "id": "f4f989ba",
   "metadata": {},
   "source": [
    "#### 5. En supposant que les ventes et les marges bénéficiaires de ce mois soient identiques, combien de mois de ventes sont nécessaires pour atteindre un bénéfice de 1 000 000 DH ou plus ?\n"
   ]
  },
  {
   "cell_type": "code",
   "execution_count": 25,
   "id": "1f7cfdec",
   "metadata": {},
   "outputs": [],
   "source": [
    "# 5\n",
    "\n"
   ]
  }
 ],
 "metadata": {
  "kernelspec": {
   "display_name": "Python 3 (ipykernel)",
   "language": "python",
   "name": "python3"
  },
  "language_info": {
   "codemirror_mode": {
    "name": "ipython",
    "version": 3
   },
   "file_extension": ".py",
   "mimetype": "text/x-python",
   "name": "python",
   "nbconvert_exporter": "python",
   "pygments_lexer": "ipython3",
   "version": "3.12.5"
  }
 },
 "nbformat": 4,
 "nbformat_minor": 5
}
