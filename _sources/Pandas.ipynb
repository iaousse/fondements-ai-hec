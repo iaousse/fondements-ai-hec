{
 "cells": [
  {
   "cell_type": "markdown",
   "id": "6e688b59-afda-46a2-9341-ef88637aa6d0",
   "metadata": {},
   "source": [
    "# Pratique 1 : Analyse avec pandas\n",
    "\n",
    "Dans ce tutoriel pratique, nous allons apprendre à charger et explorer des ensembles de données à l'aide de la bibliothèque pandas.\n",
    "\n",
    "Dans ce module, nous supposons que `pandas` est déjà installé. Vous pouvez consulter le [site officiel de pandas](https://pandas.pydata.org/docs/getting_started/install.html) pour les instructions d'installation, si nécessaire.\n",
    "\n",
    "### Chargement de données à partir de fichiers plats\n",
    "\n",
    "La première étape avant de pouvoir analyser nos données consiste à les charger. Il existe plusieurs formats de fichiers que nous pouvons importer dans Python, tels que les fichiers texte simples ou les fichiers Excel.\n",
    "\n",
    "Nous pouvons charger des ensembles de données sauvegardés soit sur notre ordinateur local, soit disponibles en ligne. Ce module abordera ces deux méthodes.\n",
    "\n",
    "Avant d’utiliser les fonctions et méthodes offertes par `pandas`, nous devons d'abord l’importer. Voici la commande pour importer la bibliothèque pandas :\n"
   ]
  },
  {
   "cell_type": "code",
   "execution_count": 1,
   "id": "72f7c73b-ac62-43d0-af85-c8ff8414de9f",
   "metadata": {},
   "outputs": [],
   "source": [
    "# importer pandas\n",
    "import pandas as pd"
   ]
  },
  {
   "cell_type": "markdown",
   "id": "61053da5-ac47-41d0-8635-9d042ed9bdda",
   "metadata": {},
   "source": [
    "Pour charger nos données, nous devons indiquer à notre script où se trouvent ces données. Cela se fait en fournissant à nos fonctions le chemin d'accès vers notre ensemble de données. Nous pouvons ensuite utiliser les fonctions de pandas pour lire les données et les stocker dans une variable.\n",
    "\n",
    "Voici deux commandes fréquemment utilisées pour lire des données avec pandas :  \n",
    "* `read_csv()` ([cliquez ici](https://pandas.pydata.org/docs/reference/api/pandas.read_csv.html) pour plus d'informations)  \n",
    "* `read_excel()` ([cliquez ici](https://pandas.pydata.org/docs/reference/api/pandas.read_excel.html) pour plus d'informations)  \n",
    "\n",
    "La fonction `read_csv()` permet de lire les fichiers au format `CSV` (où les données sont séparées par des virgules) ainsi que les fichiers texte.\n"
   ]
  },
  {
   "cell_type": "code",
   "execution_count": null,
   "id": "f4b18555-3200-4842-adf6-da107ca60e5d",
   "metadata": {},
   "outputs": [],
   "source": [
    "# Importer des données à partir d'un fichier .csv avec la fonction .read_csv  \n",
    "cars_csv_df = pd.read_csv(\"./cars.csv\")"
   ]
  },
  {
   "cell_type": "code",
   "execution_count": null,
   "id": "97fc3324-9080-43a0-9d08-ddae9e4243c8",
   "metadata": {},
   "outputs": [],
   "source": [
    "# importer données à partir d'un fichier .txt - .read_csv marche pour .txt aussi!\n",
    "cars_txt_df = pd.read_csv('./cars.txt')"
   ]
  },
  {
   "cell_type": "markdown",
   "id": "23559783-7c9a-4d87-9455-0870e9edc3a9",
   "metadata": {},
   "source": [
    "Pandas utilise une bibliothèque externe appelée `openpyxl` pour lire les fichiers `Excel`. Cette bibliothèque a déjà été chargée dans cet environnement Jupyter Notebook. \n",
    "\n",
    "Pour installer `openpyxl` sur votre propre machine, exécutez la commande suivante dans le terminal (assurez-vous d’avoir Python, Jupyter et PIP installés) :  \n",
    "**`pip install openpyxl`**\n"
   ]
  },
  {
   "cell_type": "code",
   "execution_count": null,
   "id": "d399af31-6045-483d-abfb-038d08b43ff2",
   "metadata": {},
   "outputs": [],
   "source": [
    "# Importer des données à partir de fichiers Excel avec l'extension .xlsx  \n",
    "cars_xlsx_df = pd.read_excel(\"./cars.xlsx\")"
   ]
  },
  {
   "cell_type": "markdown",
   "id": "52db35a1-eb60-46ca-ba97-b6deb0e057bc",
   "metadata": {},
   "source": [
    "Maintenant que nous avons chargé notre fichier Excel, examinons notre ensemble de données à l'aide de la commande ci-dessous.\n"
   ]
  },
  {
   "cell_type": "code",
   "execution_count": null,
   "id": "874cbd15-23ce-4878-9916-389116666e93",
   "metadata": {},
   "outputs": [],
   "source": [
    "cars_xlsx_df.head()"
   ]
  },
  {
   "cell_type": "markdown",
   "id": "f3918232-4145-44ef-9339-1f613b100da4",
   "metadata": {},
   "source": [
    "Vous avez peut-être remarqué que les noms de colonnes semblent se trouver dans la première ligne au lieu de l'en-tête. Cela peut être facilement corrigé en utilisant le paramètre `header`, qui spécifie le nombre de lignes en haut du fichier à ignorer. Ce cas est fréquent, car les fichiers de données contiennent souvent quelques lignes de texte avant les lignes contenant les valeurs du tableau, et nous souhaitons que pandas ignore ces lignes.\n",
    "\n",
    "Ajoutez l'argument `header` et observez la différence :  \n",
    "`cars_xlsx_df = pd.read_excel(\"./cars.xlsx\", header=1)`\n"
   ]
  },
  {
   "cell_type": "markdown",
   "id": "d9faa7f7-53fc-451f-acaf-d589f69efb3b",
   "metadata": {},
   "source": [
    "<hr style=\"border:2px solid gray\"> </hr>\n",
    "\n",
    "#### Essayez vous-même !\n",
    "\n",
    "**Chargez le fichier `car_stock.csv` depuis votre répertoire de travail (données issues de [IEA](https://www.iea.org/data-and-statistics/charts/global-electric-passenger-car-stock-2010-2020)) et stockez ces données dans une variable appelée 'car_stock'. Affichez les premières lignes de votre DataFrame.**\n",
    "\n",
    "\n",
    "<details>  \n",
    "  <summary><b><u>Besoin d'indication ? Cliquez ici</u></b></summary>  \n",
    "  \n",
    "Remplacez les underscores (`_`) par le nom de votre fichier de données !  \n",
    "\n",
    "Consultez également le fichier CSV pour vérifier combien de lignes d'en-tête doivent être prises en compte.  \n",
    "</details>\n"
   ]
  },
  {
   "cell_type": "code",
   "execution_count": null,
   "id": "448e8b0e-9bfc-433f-89f5-bd5158e411bb",
   "metadata": {},
   "outputs": [],
   "source": [
    "car_stock = pd.read_csv(_____, header = ____)\n",
    "car_stock.head()\n"
   ]
  },
  {
   "cell_type": "markdown",
   "id": "f1dafa17-da9a-4ee2-83bb-7f437ca9c7a1",
   "metadata": {},
   "source": [
    "<hr style=\"border:2px solid gray\"> </hr>\n",
    "\n",
    "### Récupérer des données depuis Internet\n",
    "\n",
    "Maintenant que nous avons appris à lire des données stockées sur notre ordinateur local avec Python, voyons comment charger des données depuis Internet en utilisant pandas.\n",
    "\n",
    "Essayons de charger le même ensemble de données [cars](https://raw.githubusercontent.com/rashida048/Datasets/master/cars.csv) dans Python, mais cette fois directement depuis le web. La source de cet ensemble de données est disponible [ici](https://github.com/rashida048/Datasets/blob/master/cars.csv).\n",
    "\n",
    "Nous pouvons charger cet ensemble de données directement depuis Internet en fournissant l'URL à la fonction `read_csv`. Notez que l’URL doit pointer vers les **données brutes** et non vers une page web générale !\n"
   ]
  },
  {
   "cell_type": "code",
   "execution_count": null,
   "id": "4b356f5c-d188-4455-a066-aa4be3ce1789",
   "metadata": {},
   "outputs": [],
   "source": [
    "# Importer des données à partir d'un fichier CSV en ligne  \n",
    "cars_csv_df = pd.read_csv(\"https://raw.githubusercontent.com/rashida048/Datasets/master/cars.csv\")\n",
    "\n",
    "# Examinons les premières lignes de nos données avec la commande ci-dessous  \n",
    "cars_csv_df.head()"
   ]
  },
  {
   "cell_type": "markdown",
   "id": "bc0f1a30-e346-48b9-b0f8-44f471a63bd4",
   "metadata": {},
   "source": [
    "<hr style=\"border:2px solid gray\"> </hr>\n",
    "\n",
    "\n",
    "### Exploration de vos données\n",
    "\n",
    "Maintenant que nous avons chargé nos données dans Python, explorons-les !\n",
    "\n",
    "Utilisez la commande `df.head()` ci-dessous pour afficher les 10 premières lignes de notre ensemble de données. Vous pouvez modifier le nombre de lignes affichées en remplaçant le chiffre 10 dans la commande par le nombre de lignes que vous souhaitez visualiser.\n",
    "\n",
    "Vous pouvez consulter la documentation de `df.head()` [ici](https://pandas.pydata.org/docs/reference/api/pandas.DataFrame.head.html).\n"
   ]
  },
  {
   "cell_type": "code",
   "execution_count": null,
   "id": "927fbb26-b4e3-49f3-8d8b-707d59aae92c",
   "metadata": {},
   "outputs": [],
   "source": [
    "cars_csv_df.head(10)"
   ]
  },
  {
   "cell_type": "markdown",
   "id": "09cef061-9618-4f4f-b70e-83f44222069c",
   "metadata": {},
   "source": [
    "Utilisez la commande ci-dessous pour afficher les 5 dernières lignes de notre ensemble de données. Avec `df.tail()`, vous pouvez modifier le nombre de lignes affichées en ajustant l'argument de la commande. Par exemple, si vous souhaitez voir 5 lignes, vous indiquez 5 en entrée.\n",
    "\n",
    "Vous pouvez consulter la documentation de `df.tail()` [ici](https://pandas.pydata.org/docs/reference/api/pandas.DataFrame.tail.html).\n"
   ]
  },
  {
   "cell_type": "code",
   "execution_count": null,
   "id": "9ce7338d-72a1-4277-92f1-ae8b6dbe4e40",
   "metadata": {},
   "outputs": [],
   "source": [
    "# Afficher les 5 dernières lignes  \n",
    "cars_csv_df.tail(5)"
   ]
  },
  {
   "cell_type": "markdown",
   "id": "75e79956-27d2-4a05-8d17-f59b2bff5e5c",
   "metadata": {},
   "source": [
    "Nous pouvons en apprendre davantage sur l'ensemble de données chargé dans Python en utilisant plusieurs méthodes, telles que :  \n",
    "\n",
    "- `info()` : Cette méthode permet d’obtenir diverses informations sur notre ensemble de données, comme le nombre de lignes, le nombre de colonnes, les noms des colonnes, la taille de l’ensemble de données, et bien plus encore !  \n",
    "\n",
    "- `shape` : Cette méthode nous donne uniquement le nombre de lignes et de colonnes.  \n",
    "\n",
    "- `columns` : Cette méthode nous fournit uniquement les noms des colonnes.  \n",
    "\n",
    "Apprenons comment utiliser ces méthodes !\n"
   ]
  },
  {
   "cell_type": "code",
   "execution_count": null,
   "id": "838d3c94-c8ed-4404-ae14-88cbed50c66d",
   "metadata": {},
   "outputs": [],
   "source": [
    "# Nous pouvons utiliser la méthode info() pour obtenir une vue d'ensemble complète des propriétés de notre ensemble de données.  \n",
    "cars_csv_df.info()\n"
   ]
  },
  {
   "cell_type": "code",
   "execution_count": null,
   "id": "75b5ef65-35e7-45a5-91d8-c42312dd6c11",
   "metadata": {},
   "outputs": [],
   "source": [
    "# Nous pouvons utiliser la méthode shape lorsque nous nous intéressons uniquement au nombre de lignes et de colonnes  \n",
    "cars_csv_df.shape"
   ]
  },
  {
   "cell_type": "code",
   "execution_count": null,
   "id": "d6b97f58-f117-41db-83b8-cea751878e50",
   "metadata": {},
   "outputs": [],
   "source": [
    "# Nous pouvons extraire uniquement le nombre de lignes de notre ensemble de données à partir de la méthode shape.  \n",
    "cars_csv_df.shape[0]"
   ]
  },
  {
   "cell_type": "code",
   "execution_count": null,
   "id": "2d46257a-8079-4133-8d4f-bae00f93958f",
   "metadata": {},
   "outputs": [],
   "source": [
    "# Nous pouvons extraire uniquement le nombre de colonnes de notre ensemble de données à partir de la méthode shape.  \n",
    "cars_csv_df.shape[1]  "
   ]
  },
  {
   "cell_type": "code",
   "execution_count": null,
   "id": "40f8e2d3-2f19-4711-b948-5c30a7458f03",
   "metadata": {},
   "outputs": [],
   "source": [
    "# Nous pouvons utiliser la méthode columns pour obtenir les noms des colonnes de notre ensemble de données.  \n",
    "cars_csv_df.columns"
   ]
  },
  {
   "cell_type": "markdown",
   "id": "9e442f86-5012-4b39-b2a2-5a36a761eb19",
   "metadata": {},
   "source": [
    "<hr style=\"border:2px solid gray\"> </hr>\n",
    "\n",
    "#### Essayez vous-même !\n",
    "\n",
    "**Quelle est le nombre de lignes et de colonnes du dataframe `car_stock` que nous avons créé précédemment ? Combien de lignes et de colonnes contient-il ?**\n"
   ]
  },
  {
   "cell_type": "code",
   "execution_count": null,
   "id": "5f71d05a-6500-4bae-8f9d-7c882be3ee0b",
   "metadata": {},
   "outputs": [],
   "source": [
    "#"
   ]
  },
  {
   "cell_type": "markdown",
   "id": "d7f3c649-9486-4a3b-8e25-04cb1f72495c",
   "metadata": {},
   "source": [
    "Ce dataframe contient ... lignes et ... colonnes.  \n",
    "\n",
    "<hr style=\"border:2px solid gray\"> </hr>\n",
    "\n",
    "\n",
    "### Sélection de colonnes et de lignes\n",
    "\n",
    "Nous pouvons extraire les données d'une ou plusieurs colonnes **par leur nom** dans notre ensemble de données.\n",
    "\n",
    "Exerçons-nous à extraire des données de colonnes spécifiques."
   ]
  },
  {
   "cell_type": "code",
   "execution_count": null,
   "id": "680640d7-f994-4ef5-a252-3c6484a8c944",
   "metadata": {},
   "outputs": [],
   "source": [
    "# Extraire les données d'une seule colonne\n",
    "cars_csv_df.Model"
   ]
  },
  {
   "cell_type": "code",
   "execution_count": null,
   "id": "f0db8aad-8b47-4e90-872d-0824add4b9c3",
   "metadata": {},
   "outputs": [],
   "source": [
    "# Une autre méthode pour extraire les données d'une colonne\n",
    "cars_csv_df[\"Model\"]"
   ]
  },
  {
   "cell_type": "code",
   "execution_count": null,
   "id": "1208144e-03e5-4123-bab1-f8acb2ae5c48",
   "metadata": {},
   "outputs": [],
   "source": [
    "# La commande ci-dessous permet d'extraire les données de plusieurs colonnes\n",
    "cars_csv_df[['Model', 'Size']]"
   ]
  },
  {
   "cell_type": "code",
   "execution_count": null,
   "id": "abe78f44-35e8-43a1-b92d-638c94841069",
   "metadata": {},
   "outputs": [],
   "source": [
    "# Nous pouvons limiter l'affichage aux 5 premières lignes en utilisant .head() comme nous l'avons appris précédemment\n",
    "cars_csv_df[['Model', 'Size']].head(5)"
   ]
  },
  {
   "cell_type": "markdown",
   "id": "5534a59c-2f2f-459f-8017-271efd6b7d4f",
   "metadata": {},
   "source": [
    "### Utilisation de la méthode `.loc`\n",
    "\n",
    "Nous pouvons utiliser la méthode `.loc` pour sélectionner une colonne spécifique (ou même plusieurs) **par leur nom**. `loc` permet également de sélectionner des données sur les lignes qui nous intéressent en utilisant le \"slicing\". Le \"slicing\" consiste à extraire certaines parties spécifiques de vos données.\n",
    "\n",
    "Pour plus d’informations, consultez la documentation Pandas sur `.loc` [ici](https://pandas.pydata.org/docs/reference/api/pandas.DataFrame.loc.html), ainsi que la documentation générale sur l'indexation [ici](https://pandas.pydata.org/docs/user_guide/indexing.html).\n"
   ]
  },
  {
   "cell_type": "code",
   "execution_count": null,
   "id": "36e34b66-aca5-4fcb-a692-cbc3610f298c",
   "metadata": {},
   "outputs": [],
   "source": [
    "# Sélectionner toutes les lignes d'une seule colonne\n",
    "cars_csv_df.loc[:, ['YEAR']]\n"
   ]
  },
  {
   "cell_type": "code",
   "execution_count": null,
   "id": "4ecd87cb-21cd-449c-9b9e-4c4c028274c7",
   "metadata": {},
   "outputs": [],
   "source": [
    "# Sélectionner toutes les lignes de plusieurs colonnes\n",
    "cars_csv_df.loc[:, ['YEAR', 'Make']]"
   ]
  },
  {
   "cell_type": "markdown",
   "id": "5264a828-18e4-4d22-b558-c84a333b5b3b",
   "metadata": {},
   "source": [
    "Nous pouvons également sélectionner des lignes provenant de colonnes spécifiques ou même de l'ensemble des colonnes en une seule fois.\n"
   ]
  },
  {
   "cell_type": "code",
   "execution_count": null,
   "id": "e0382707-8385-41e0-9be6-3f2dc4b77db7",
   "metadata": {},
   "outputs": [],
   "source": [
    "# Sélectionner les indices de lignes 7 à 10 (lignes 8 à 11, car l'indexation commence à 0) pour toutes les colonnes  \n",
    "cars_csv_df.loc[7:10,]\n"
   ]
  },
  {
   "cell_type": "code",
   "execution_count": null,
   "id": "0881836a-d39a-4068-a3c7-79dfdab01417",
   "metadata": {},
   "outputs": [],
   "source": [
    "# Sélectionner les indices de lignes 15 à 18 pour les colonnes nommées 'YEAR' et 'Make'  \n",
    "cars_csv_df.loc[15:18, ['YEAR', 'Make']]\n"
   ]
  },
  {
   "cell_type": "markdown",
   "id": "7c66350a-c80a-4928-a514-8d7bf40482e4",
   "metadata": {},
   "source": [
    "### Méthode `.iloc`\n",
    "\n",
    "La méthode `.iloc` fonctionne de la même manière que `.loc`, à la différence que nous utilisons **les indices numériques correspondant aux colonnes au lieu de leurs noms**. L'indice de la première colonne est 0, celui de la deuxième colonne est 1, et ainsi de suite.\n",
    "\n",
    "`.iloc` peut être utile lorsque nous devons utiliser une boucle `for`, car nous pouvons parcourir plusieurs lignes en utilisant les indices numériques.\n",
    "\n",
    "Pour plus d'informations sur cette méthode, consultez la [documentation](https://pandas.pydata.org/docs/reference/api/pandas.DataFrame.iloc.html) de Pandas sur `.iloc`.\n"
   ]
  },
  {
   "cell_type": "code",
   "execution_count": null,
   "id": "73916165-7bbe-4805-aef0-a16b5ebb3087",
   "metadata": {},
   "outputs": [],
   "source": [
    "# Commande pour sélectionner une colonne entière  \n",
    "# L'indice de 'YEAR' est 0 car il s'agit de la première colonne  \n",
    "\n",
    "cars_csv_df.iloc[:, 0]\n"
   ]
  },
  {
   "cell_type": "code",
   "execution_count": null,
   "id": "e74bb7cf-52ad-4d41-9a50-4d8d3f368183",
   "metadata": {},
   "outputs": [],
   "source": [
    "# Sélectionner toutes les lignes des colonnes correspondant aux indices de 0 à 6  \n",
    "\n",
    "cars_csv_df.iloc[:, 0:6]\n"
   ]
  },
  {
   "cell_type": "code",
   "execution_count": null,
   "id": "83c1bba5-0ee7-4483-b063-878252678ad7",
   "metadata": {},
   "outputs": [],
   "source": [
    "# Sélectionner les lignes correspondant aux indices 15 à 17 et les colonnes nommées 'YEAR' et '(kw)'  \n",
    "# qui se trouvent aux indices 0 et 4  \n",
    "\n",
    "cars_csv_df.iloc[15:18, [0, 4]]\n"
   ]
  },
  {
   "cell_type": "markdown",
   "id": "620fe7b0-ee4b-44b4-aecb-2eba61fc2187",
   "metadata": {},
   "source": [
    "<hr style=\"border:2px solid gray\"> </hr>\n",
    "\n",
    "#### Essayez vous-même !\n",
    "\n",
    "**Décommentez le code correct pour afficher la consommation en ville et sur autoroute (unité kWh/100 km) dans vos données.**\n"
   ]
  },
  {
   "cell_type": "code",
   "execution_count": null,
   "id": "4dfe9d5b-ed73-4687-8604-d04152fa73b6",
   "metadata": {},
   "outputs": [],
   "source": [
    "# Décommentez le bon code\n",
    "\n",
    "# cars_csv_df.loc[:, ['HWY (kWh/100 km)']]\n",
    "\n",
    "# cars_csv_df.loc[:, ['COMB (Le/100 km)', '(g/km)']]\n",
    "\n",
    "cars_csv_df.loc[:, ['CITY (kWh/100 km)', 'HWY (kWh/100 km)']]\n"
   ]
  },
  {
   "cell_type": "markdown",
   "id": "23e139e8-abc4-42c2-9547-6bb1ba0ec3a9",
   "metadata": {},
   "source": [
    "**Écrivez le code ci-dessous pour utiliser la méthode appropriée pour sélectionner des lignes ou des colonnes. Sélectionnez toutes les lignes des colonnes nommées 'Size' et 'RATING'.**\n",
    "\n",
    "<br>\n",
    "\n",
    "<details>\n",
    "  <summary><b><u>Besoin d'indication ? Cliquez ici</u></b></summary>\n",
    "\n",
    "  <p>\n",
    "          Quelle est la méthode appropriée (`loc` ou `iloc`) ? Remplacez les underscores `_ _ _` dans le code par la méthode correcte.\n",
    "  </p>\n",
    "</details>\n"
   ]
  },
  {
   "cell_type": "code",
   "execution_count": null,
   "id": "f17a9e2b-ecb8-4c23-bff5-72f6cc4ca664",
   "metadata": {},
   "outputs": [],
   "source": [
    "cars_csv_df.____[:,['Size', 'RATING']]\n"
   ]
  },
  {
   "cell_type": "markdown",
   "id": "435d144f-40d6-4dbf-bac8-4c8a33e1ae14",
   "metadata": {},
   "source": [
    "**Sélectionnez les colonnes 'Make', 'Model' et 'YEAR' par leurs noms, et sélectionnez les lignes 1 à 6.**\n",
    "\n",
    "<hr style=\"border:2px solid gray\"> </hr>\n",
    "\n",
    "## Exercice pratique\n",
    "\n",
    "Travaillons avec un nouvel ensemble de données contenant des informations sur le nombre de vélos traversant l'East River à New York. Cet ensemble de données se trouve dans le fichier `nyc-east-river-bicycle-counts.csv`. \n",
    "\n",
    "Chargeons cet ensemble de données dans Python et utilisons-le pour répondre aux questions ci-dessous.\n",
    "#### 1. Importez la bibliothèque pandas sous le nom `pd` et utilisez la fonction appropriée pour charger notre ensemble de données. Lisez cet ensemble de données dans une variable appelée `bikes`.\n"
   ]
  },
  {
   "cell_type": "code",
   "execution_count": null,
   "id": "99c6c22a-d573-49fa-96b5-b47edb572fae",
   "metadata": {},
   "outputs": [],
   "source": [
    "# votre code ici"
   ]
  },
  {
   "cell_type": "markdown",
   "id": "4da4058a-e43d-48e2-a679-1713b63b5666",
   "metadata": {},
   "source": [
    "#### 2. Affichez les 5 premières lignes du dataframe"
   ]
  },
  {
   "cell_type": "code",
   "execution_count": null,
   "id": "7af023e4-242f-4fc3-9639-05d0197f8495",
   "metadata": {},
   "outputs": [],
   "source": [
    "# votre code ici"
   ]
  },
  {
   "cell_type": "markdown",
   "id": "f8337757-cda8-46c2-ba61-d3f2646df5dd",
   "metadata": {},
   "source": [
    "#### 3. Quelle est la structure des données (nombre de lignes, colonnes, noms, etc.) ?\n"
   ]
  },
  {
   "cell_type": "code",
   "execution_count": null,
   "id": "80564c03-57c8-4f88-a9af-ec62b4c55520",
   "metadata": {},
   "outputs": [],
   "source": [
    "# votre code ici"
   ]
  },
  {
   "cell_type": "markdown",
   "id": "03f6ffda-368e-422c-9f26-8f19a28e5690",
   "metadata": {},
   "source": [
    "Il y a ... colonnes et ... lignes d'observations. Les noms de colonnes incluent des informations telles que ...\n"
   ]
  },
  {
   "cell_type": "markdown",
   "id": "6b034f3b-9d4a-4998-9457-14b0bcf721f5",
   "metadata": {},
   "source": [
    "#### 4. Combien de traversées de ponts sont enregistrées dans notre ensemble de données ?\n"
   ]
  },
  {
   "cell_type": "code",
   "execution_count": null,
   "id": "225304ac-f2dc-46cc-86f3-c0a5d6530d1d",
   "metadata": {},
   "outputs": [],
   "source": [
    "# votre code ici"
   ]
  },
  {
   "cell_type": "markdown",
   "id": "b9cb4e1a-1bd0-4403-b3b8-e5ad3b2c2dd2",
   "metadata": {},
   "source": [
    "#### 5. Complétez le code ci-dessous pour afficher le nombre de colonnes et leurs noms.\n",
    "\n",
    "Par exemple, votre sortie devrait ressembler à ceci :  \n",
    "`Le nombre de colonnes dans mes données est : 3  \n",
    "La liste des colonnes dans mes données est : ['Date', 'Day', 'Bridge', ...]`"
   ]
  },
  {
   "cell_type": "code",
   "execution_count": null,
   "id": "bec5a8e0-a077-4f7d-8402-3132e7610a8d",
   "metadata": {},
   "outputs": [],
   "source": [
    "# votre code ici"
   ]
  },
  {
   "cell_type": "markdown",
   "id": "dff45874-fec3-41c9-b4a1-6f3dfc252293",
   "metadata": {},
   "source": [
    "#### 6. Sélectionnez les 5 premières lignes en utilisant `loc` et `iloc`"
   ]
  },
  {
   "cell_type": "code",
   "execution_count": null,
   "id": "d7079f60-a823-44e3-9d32-3e82ae3711a1",
   "metadata": {},
   "outputs": [],
   "source": [
    "# votre code ici"
   ]
  },
  {
   "cell_type": "markdown",
   "id": "b7fee0a2-cf4f-4aa4-b852-ed4e45610199",
   "metadata": {},
   "source": [
    "#### 7. Sélectionnez les 5 premières lignes des colonnes nommées 'Day' et 'Brooklyn Bridge' en utilisant `.loc` et `.iloc`\n"
   ]
  },
  {
   "cell_type": "code",
   "execution_count": null,
   "id": "67ef2aef-fc8c-407a-a296-ab561c8029a1",
   "metadata": {},
   "outputs": [],
   "source": [
    "# votre code ici"
   ]
  },
  {
   "cell_type": "code",
   "execution_count": null,
   "id": "ca7a7b9a-af51-49dd-a879-063d7f6db704",
   "metadata": {},
   "outputs": [],
   "source": []
  }
 ],
 "metadata": {
  "kernelspec": {
   "display_name": "Python 3 (ipykernel)",
   "language": "python",
   "name": "python3"
  },
  "language_info": {
   "codemirror_mode": {
    "name": "ipython",
    "version": 3
   },
   "file_extension": ".py",
   "mimetype": "text/x-python",
   "name": "python",
   "nbconvert_exporter": "python",
   "pygments_lexer": "ipython3",
   "version": "3.12.5"
  }
 },
 "nbformat": 4,
 "nbformat_minor": 5
}
